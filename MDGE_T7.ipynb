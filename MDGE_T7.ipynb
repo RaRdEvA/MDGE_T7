{
 "cells": [
  {
   "cell_type": "code",
   "execution_count": 1,
   "id": "697a530b-ca63-460b-a869-a6109b824530",
   "metadata": {},
   "outputs": [],
   "source": [
    "import sys\n",
    "from pyspark.sql import SparkSession\n",
    "from pyspark.sql.functions import col, year, month, rand\n",
    "from pyspark.sql.types import IntegerType, StringType, FloatType, DateType"
   ]
  },
  {
   "cell_type": "code",
   "execution_count": 2,
   "id": "2bf6cfda-35cb-40a3-84ee-1d1c9dae766f",
   "metadata": {},
   "outputs": [],
   "source": [
    "spark = SparkSession.builder \\\n",
    "    .appName(\"Yelp Review Analysis\") \\\n",
    "    .config(\"spark.driver.memory\", \"8g\") \\\n",
    "    .config(\"spark.executor.memory\", \"8g\") \\\n",
    "    .getOrCreate()"
   ]
  },
  {
   "cell_type": "code",
   "execution_count": 3,
   "id": "b7538889-479b-49a2-83a8-7c678769e5d5",
   "metadata": {},
   "outputs": [],
   "source": [
    "# Descomprimir archivo\n",
    "# !tar -xvf /home/jovyan/work/yelp_dataset.tar -C /home/jovyan/work"
   ]
  },
  {
   "cell_type": "markdown",
   "id": "d68b067a-ee78-48a0-8aef-c3f2444c1397",
   "metadata": {},
   "source": [
    "1. Toma el archivo review.json JSON y cuantífica cuánto pesa el archivo en disco."
   ]
  },
  {
   "cell_type": "code",
   "execution_count": 4,
   "id": "94bb9cf3-41d1-4d23-8a16-91c43ba08b9d",
   "metadata": {},
   "outputs": [
    {
     "name": "stdout",
     "output_type": "stream",
     "text": [
      "-rwxrwxrwx 1 jovyan 1000 5.0G Jan 19  2022 /home/jovyan/work/yelp_academic_dataset_review.json\n"
     ]
    }
   ],
   "source": [
    "# cuantificar cuánto pesa en disco\n",
    "!ls -lh /home/jovyan/work/yelp_academic_dataset_review.json"
   ]
  },
  {
   "cell_type": "markdown",
   "id": "3759fb55-a99a-40bb-9034-773ad6a7923c",
   "metadata": {},
   "source": [
    "2. Carga el JSON en Spark y cuantífica cuánto pesa el DataFramen en memoria RAM."
   ]
  },
  {
   "cell_type": "code",
   "execution_count": 5,
   "id": "3bf832f8-7737-46be-8131-fbb76ae5741a",
   "metadata": {},
   "outputs": [
    {
     "name": "stdout",
     "output_type": "stream",
     "text": [
      "root\n",
      " |-- business_id: string (nullable = true)\n",
      " |-- cool: long (nullable = true)\n",
      " |-- date: string (nullable = true)\n",
      " |-- funny: long (nullable = true)\n",
      " |-- review_id: string (nullable = true)\n",
      " |-- stars: double (nullable = true)\n",
      " |-- text: string (nullable = true)\n",
      " |-- useful: long (nullable = true)\n",
      " |-- user_id: string (nullable = true)\n",
      "\n",
      "+--------------------+----+-------------------+-----+--------------------+-----+--------------------+------+--------------------+\n",
      "|         business_id|cool|               date|funny|           review_id|stars|                text|useful|             user_id|\n",
      "+--------------------+----+-------------------+-----+--------------------+-----+--------------------+------+--------------------+\n",
      "|XQfwVwDr-v0ZS3_Cb...|   0|2018-07-07 22:09:11|    0|KU_O5udG6zpxOg-Vc...|  3.0|If you decide to ...|     0|mh_-eMZ6K5RLWhZyI...|\n",
      "|7ATYjTIgM3jUlt4UM...|   1|2012-01-03 15:28:18|    0|BiTunyQ73aT9WBnpR...|  5.0|I've taken a lot ...|     1|OyoGAe7OKpv6SyGZT...|\n",
      "|YjUWPpI6HXG530lwP...|   0|2014-02-05 20:30:30|    0|saUsX_uimxRlCVr67...|  3.0|Family diner. Had...|     0|8g_iMtfSiwikVnbP2...|\n",
      "|kxX2SOes4o-D3ZQBk...|   1|2015-01-04 00:01:03|    0|AqPFMleE6RsU23_au...|  5.0|Wow!  Yummy, diff...|     1|_7bHUi9Uuf5__HHc_...|\n",
      "|e4Vwtrqf-wpJfwesg...|   1|2017-01-14 20:54:15|    0|Sx8TMOWLNuJBWer-0...|  4.0|Cute interior and...|     1|bcjbaE6dDog4jkNY9...|\n",
      "|04UD14gamNjLY0IDY...|   1|2015-09-23 23:10:31|    2|JrIxlS1TzJ-iCu79u...|  1.0|I am a long term ...|     1|eUta8W_HdHMXPzLBB...|\n",
      "|gmjsEdUsKpj9Xxu6p...|   0|2015-01-03 23:21:18|    2|6AxgBCNX_PNTOxmbR...|  5.0|Loved this tour! ...|     0|r3zeYsv1XFBRA4dJp...|\n",
      "|LHSTtnW3YHCeUkRDG...|   0|2015-08-07 02:29:16|    0|_ZeMknuYdlQcUqng_...|  5.0|Amazingly amazing...|     2|yfFzsLmaWF2d4Sr0U...|\n",
      "|B5XSoSG3SfvQGtKEG...|   0|2016-03-30 22:46:33|    1|ZKvDG2sBvHVdF5oBN...|  3.0|This easter inste...|     1|wSTuiTk-sKNdcFypr...|\n",
      "|gebiRewfieSdtt17P...|   0|2016-07-25 07:31:06|    0|pUycOfUwM8vqX7KjR...|  3.0|Had a party of 6 ...|     0|59MxRhNVhU9MYndMk...|\n",
      "|uMvVYRgGNXf5boolA...|   0|2015-06-21 14:48:06|    0|rGQRf8UafX7OTlMNN...|  5.0|My experience wit...|     2|1WHRWwQmZOZDAhp2Q...|\n",
      "|EQ-TZ2eeD_E0BHuvo...|   0|2015-08-19 14:31:45|    0|l3Wk_mvAog6XANIuG...|  4.0|Locals recommende...|     0|ZbqSHbgCjzVAqaa7N...|\n",
      "|lj-E32x9_FA7GmUrB...|   0|2014-06-27 22:44:01|    0|XW_LfMv0fV21l9c6x...|  4.0|Love going here f...|     0|9OAtfnWag-ajVxRbU...|\n",
      "|RZtGWDLCAtuipwaZ-...|   0|2009-10-14 19:57:14|    0|8JFGBuHMoiNDyfcxu...|  4.0|Good food--loved ...|     0|smOvOajNG0lS4Pq7d...|\n",
      "|otQS34_MymijPTdNB...|   0|2011-10-27 17:12:05|    2|UBp0zWyH60Hmw6Fsa...|  4.0|The bun makes the...|     0|4Uh27DgGzsp6PqrH9...|\n",
      "|BVndHaLihEYbr76Z0...|   0|2014-10-11 16:22:06|    0|OAhBYw8IQ6wlfw1ow...|  5.0|Great place for b...|     0|1C2lxzUo1Hyye4RFI...|\n",
      "|YtSqYv1Q_pOltsVPS...|   0|2013-06-24 11:21:25|    0|oyaMhzBSwfGgemSGu...|  5.0|Tremendous servic...|     0|Dd1jQj7S-BFGqRbAp...|\n",
      "|rBdG_23USc7DletfZ...|   0|2014-08-10 19:41:43|    0|LnGZB0fjfgeVDVz5I...|  4.0|The hubby and I h...|     1|j2wlzrntrbKwyOcOi...|\n",
      "|CLEWowfkj-wKYJlQD...|   1|2016-03-07 00:02:18|    0|u2vzZaOqJ2feRshaa...|  5.0|I go to blow bar ...|     2|NDZvyYHTUWWu-kqgQ...|\n",
      "|eFvzHawVJofxSnD7T...|   0|2014-11-12 15:30:27|    0|Xs8Z8lmKkosqW5mw_...|  5.0|My absolute favor...|     0|IQsF3Rc6IgCzjVV9D...|\n",
      "+--------------------+----+-------------------+-----+--------------------+-----+--------------------+------+--------------------+\n",
      "only showing top 20 rows\n",
      "\n"
     ]
    }
   ],
   "source": [
    "# Cargar el archivo JSON en un DataFrame\n",
    "review_df = spark.read.json(\"/home/jovyan/work/yelp_academic_dataset_review.json\")\n",
    "\n",
    "# Mostrar el esquema para verificar que se haya cargado correctamente\n",
    "review_df.printSchema()\n",
    "\n",
    "# Mostrar las primeras filas para verificar los datos\n",
    "review_df.show()"
   ]
  },
  {
   "cell_type": "code",
   "execution_count": 6,
   "id": "8039be4b-f7fb-4ce8-ad21-e52dc50e293a",
   "metadata": {},
   "outputs": [],
   "source": [
    "# Definir función para estimar tamaño\n",
    "def estimate_dataframe_size(spark, df):\n",
    "    # Sample a small percentage of the DataFrame and calculate the size\n",
    "    sample_df = df.sample(False, 0.1).cache()  # Using a 10% sample\n",
    "    sample_df.count()  # Trigger computation and caching of the sampled data\n",
    "\n",
    "    # Estimate size using sample size\n",
    "    size_estimate = (sample_df.rdd.map(lambda x: sys.getsizeof(x)).reduce(lambda x, y: x + y)\n",
    "                     * (1 / 0.1))  # Adjust based on the sample percentage\n",
    "    \n",
    "    sample_df.unpersist()  # Clean up cache\n",
    "    return size_estimate"
   ]
  },
  {
   "cell_type": "code",
   "execution_count": 7,
   "id": "9d6d7c8a-2b68-4261-9dda-e4d2451302b6",
   "metadata": {},
   "outputs": [],
   "source": [
    "# Estimar tamaño\n",
    "size_in_bytes = estimate_dataframe_size(spark, review_df)"
   ]
  },
  {
   "cell_type": "code",
   "execution_count": 8,
   "id": "d91a3021-7b71-4e6d-a321-cd7546786c01",
   "metadata": {},
   "outputs": [
    {
     "name": "stdout",
     "output_type": "stream",
     "text": [
      "Estimated size in bytes: 838564800.0\n",
      "Estimated size in bytes: 838,564,800.0\n",
      "Estimated size in bytes: 838,564,800.0\n"
     ]
    }
   ],
   "source": [
    "# Imprimir el estimado\n",
    "print(f\"Estimated size in bytes: {size_in_bytes}\")\n",
    "\n",
    "# Estimado con formato usando format()\n",
    "print(\"Estimated size in bytes: {0:,}\".format(size_in_bytes))\n",
    "\n",
    "# Estimado con formato usando f-string\n",
    "print(f\"Estimated size in bytes: {size_in_bytes:,}\")"
   ]
  },
  {
   "cell_type": "code",
   "execution_count": 9,
   "id": "f4703f80-ed61-4684-a7ee-7df5501fb58d",
   "metadata": {},
   "outputs": [
    {
     "name": "stdout",
     "output_type": "stream",
     "text": [
      "Estimated size in gigabytes: 0.78 GB\n",
      "Estimated size in gigabytes: 0.78 GB\n"
     ]
    }
   ],
   "source": [
    "# Convertir a gigabytes\n",
    "size_in_gigabytes = size_in_bytes / (1024 ** 3)\n",
    "\n",
    "# Imprimir con 2 decimales usando format()\n",
    "print(\"Estimated size in gigabytes: {:.2f} GB\".format(size_in_gigabytes))\n",
    "\n",
    "# Imprimir usando f-string\n",
    "print(f\"Estimated size in gigabytes: {size_in_gigabytes:.2f} GB\")"
   ]
  },
  {
   "cell_type": "markdown",
   "id": "caaf0e17-255a-4ef9-b211-836363b5717c",
   "metadata": {},
   "source": [
    "3. Guarda el DataFrame como parquet en disco y muestra cuánto pesa el archivo. Cómo se compara con el JSON crudo."
   ]
  },
  {
   "cell_type": "code",
   "execution_count": 10,
   "id": "53e0b40e-f033-4232-8b50-46f274124d39",
   "metadata": {},
   "outputs": [],
   "source": [
    "# Guardar el DataFrame en formato Parquet\n",
    "review_df.write.mode('overwrite').parquet(\"/home/jovyan/work/yelp_review_parquet\")"
   ]
  },
  {
   "cell_type": "code",
   "execution_count": 11,
   "id": "c557e493-34fe-400d-9617-8c5e9badd37b",
   "metadata": {},
   "outputs": [],
   "source": [
    "# Guardar el DataFrame en formato Parquet a 10 particiones\n",
    "# review_df = review_df.repartition(10)\n",
    "# review_df.write.mode('overwrite').parquet(\"/home/jovyan/work/yelp_review_parquet\")"
   ]
  },
  {
   "cell_type": "code",
   "execution_count": 12,
   "id": "489c406f-3775-44cb-a4bc-23b495d6cbc8",
   "metadata": {},
   "outputs": [
    {
     "name": "stdout",
     "output_type": "stream",
     "text": [
      "2.9G\t/home/jovyan/work/yelp_review_parquet\n"
     ]
    }
   ],
   "source": [
    "# Ver tamaño del archivo parquet\n",
    "!du -sh /home/jovyan/work/yelp_review_parquet"
   ]
  },
  {
   "cell_type": "markdown",
   "id": "72f6924a-d056-4333-b247-426096f16e52",
   "metadata": {},
   "source": [
    "4. Utiliza el DataFrame, optimiza el tipo de dato que hay en cada columna (i.e. Int32, Int64, Float32, Float64, String, Categorical) y guarda el nuevo DataFrame como parquet. Cuántifica cuánto pesa el DataFrame en memoria RAM y cuánto pesa en disco. Cómo se compara con el parquet crudo."
   ]
  },
  {
   "cell_type": "code",
   "execution_count": 13,
   "id": "a0c97c0e-8764-4dcb-be57-723f0df39928",
   "metadata": {},
   "outputs": [
    {
     "name": "stdout",
     "output_type": "stream",
     "text": [
      "root\n",
      " |-- business_id: string (nullable = true)\n",
      " |-- cool: integer (nullable = true)\n",
      " |-- date: date (nullable = true)\n",
      " |-- funny: integer (nullable = true)\n",
      " |-- review_id: string (nullable = true)\n",
      " |-- stars: float (nullable = true)\n",
      " |-- text: string (nullable = true)\n",
      " |-- useful: integer (nullable = true)\n",
      " |-- user_id: string (nullable = true)\n",
      "\n"
     ]
    }
   ],
   "source": [
    "# Optimizar DF\n",
    "optimized_df = review_df \\\n",
    "    .withColumn(\"cool\", col(\"cool\").cast(IntegerType())) \\\n",
    "    .withColumn(\"funny\", col(\"funny\").cast(IntegerType())) \\\n",
    "    .withColumn(\"useful\", col(\"useful\").cast(IntegerType())) \\\n",
    "    .withColumn(\"stars\", col(\"stars\").cast(FloatType())) \\\n",
    "    .withColumn(\"date\", col(\"date\").cast(DateType()))  # Convierte la fecha si es necesario\n",
    "\n",
    "# Mostrar el nuevo esquema para verificar los cambios\n",
    "optimized_df.printSchema()"
   ]
  },
  {
   "cell_type": "code",
   "execution_count": 14,
   "id": "8a1c2aec-6e80-41dd-ad4f-0bb60da82671",
   "metadata": {},
   "outputs": [],
   "source": [
    "# Guardar el DF optimizado\n",
    "optimized_df.write.mode('overwrite').parquet(\"/home/jovyan/work/yelp_review_optimized_parquet\")"
   ]
  },
  {
   "cell_type": "code",
   "execution_count": 15,
   "id": "1d7a006c-a039-446e-bc23-f3aa490dbb62",
   "metadata": {},
   "outputs": [
    {
     "name": "stdout",
     "output_type": "stream",
     "text": [
      "2.8G\t/home/jovyan/work/yelp_review_optimized_parquet\n"
     ]
    }
   ],
   "source": [
    "# Cuantificar el tamaño del archivo parquet nuevo\n",
    "!du -sh /home/jovyan/work/yelp_review_optimized_parquet"
   ]
  },
  {
   "cell_type": "code",
   "execution_count": 16,
   "id": "734103cf-8837-4bde-a686-c8a7ea50d59b",
   "metadata": {},
   "outputs": [],
   "source": [
    "yelp = optimized_df.cache().select(optimized_df.columns)\n",
    "yelp_size_in_bytes = yelp._jdf.queryExecution().optimizedPlan().stats().sizeInBytes()"
   ]
  },
  {
   "cell_type": "code",
   "execution_count": 17,
   "id": "9dde2121-62c1-4ef1-907c-7dd4d0a1d68d",
   "metadata": {},
   "outputs": [
    {
     "name": "stdout",
     "output_type": "stream",
     "text": [
      "Estimated size in gigabytes: 3.84 GB\n",
      "Estimated size in gigabytes: 3.84 GB\n"
     ]
    }
   ],
   "source": [
    "# Convertir a gigabytes\n",
    "yelp_size_in_gigabytes = yelp_size_in_bytes / (1024 ** 3)\n",
    "\n",
    "# Imprimir con 2 decimales usando format()\n",
    "print(\"Estimated size in gigabytes: {:.2f} GB\".format(yelp_size_in_gigabytes))\n",
    "\n",
    "# Imprimir usando f-string\n",
    "print(f\"Estimated size in gigabytes: {yelp_size_in_gigabytes:.2f} GB\")"
   ]
  },
  {
   "cell_type": "markdown",
   "id": "69e4b3d5-ec27-4020-8fd1-894e9964e5fa",
   "metadata": {},
   "source": [
    "5. Utiliza el DataFrame optimizado, guarda en parquet una nueva versión del DataFrame y particionalo por fecha (date). Otra versión por ciudad. Otra por ciudad y fecha.\n",
    "\n",
    "- Nota: Para particionar por ciudad (city) será necesario que hagas un join con la tabla business.json.\n",
    "- Nota: Para particionar por fecha hazlo por año y mes. Para hacer esto necesitas extraer el año y mes como columnas."
   ]
  },
  {
   "cell_type": "code",
   "execution_count": 18,
   "id": "1a758a36-cbe4-4c14-816a-531911829eb6",
   "metadata": {},
   "outputs": [
    {
     "name": "stdout",
     "output_type": "stream",
     "text": [
      "root\n",
      " |-- address: string (nullable = true)\n",
      " |-- attributes: struct (nullable = true)\n",
      " |    |-- AcceptsInsurance: string (nullable = true)\n",
      " |    |-- AgesAllowed: string (nullable = true)\n",
      " |    |-- Alcohol: string (nullable = true)\n",
      " |    |-- Ambience: string (nullable = true)\n",
      " |    |-- BYOB: string (nullable = true)\n",
      " |    |-- BYOBCorkage: string (nullable = true)\n",
      " |    |-- BestNights: string (nullable = true)\n",
      " |    |-- BikeParking: string (nullable = true)\n",
      " |    |-- BusinessAcceptsBitcoin: string (nullable = true)\n",
      " |    |-- BusinessAcceptsCreditCards: string (nullable = true)\n",
      " |    |-- BusinessParking: string (nullable = true)\n",
      " |    |-- ByAppointmentOnly: string (nullable = true)\n",
      " |    |-- Caters: string (nullable = true)\n",
      " |    |-- CoatCheck: string (nullable = true)\n",
      " |    |-- Corkage: string (nullable = true)\n",
      " |    |-- DietaryRestrictions: string (nullable = true)\n",
      " |    |-- DogsAllowed: string (nullable = true)\n",
      " |    |-- DriveThru: string (nullable = true)\n",
      " |    |-- GoodForDancing: string (nullable = true)\n",
      " |    |-- GoodForKids: string (nullable = true)\n",
      " |    |-- GoodForMeal: string (nullable = true)\n",
      " |    |-- HairSpecializesIn: string (nullable = true)\n",
      " |    |-- HappyHour: string (nullable = true)\n",
      " |    |-- HasTV: string (nullable = true)\n",
      " |    |-- Music: string (nullable = true)\n",
      " |    |-- NoiseLevel: string (nullable = true)\n",
      " |    |-- Open24Hours: string (nullable = true)\n",
      " |    |-- OutdoorSeating: string (nullable = true)\n",
      " |    |-- RestaurantsAttire: string (nullable = true)\n",
      " |    |-- RestaurantsCounterService: string (nullable = true)\n",
      " |    |-- RestaurantsDelivery: string (nullable = true)\n",
      " |    |-- RestaurantsGoodForGroups: string (nullable = true)\n",
      " |    |-- RestaurantsPriceRange2: string (nullable = true)\n",
      " |    |-- RestaurantsReservations: string (nullable = true)\n",
      " |    |-- RestaurantsTableService: string (nullable = true)\n",
      " |    |-- RestaurantsTakeOut: string (nullable = true)\n",
      " |    |-- Smoking: string (nullable = true)\n",
      " |    |-- WheelchairAccessible: string (nullable = true)\n",
      " |    |-- WiFi: string (nullable = true)\n",
      " |-- business_id: string (nullable = true)\n",
      " |-- categories: string (nullable = true)\n",
      " |-- city: string (nullable = true)\n",
      " |-- hours: struct (nullable = true)\n",
      " |    |-- Friday: string (nullable = true)\n",
      " |    |-- Monday: string (nullable = true)\n",
      " |    |-- Saturday: string (nullable = true)\n",
      " |    |-- Sunday: string (nullable = true)\n",
      " |    |-- Thursday: string (nullable = true)\n",
      " |    |-- Tuesday: string (nullable = true)\n",
      " |    |-- Wednesday: string (nullable = true)\n",
      " |-- is_open: long (nullable = true)\n",
      " |-- latitude: double (nullable = true)\n",
      " |-- longitude: double (nullable = true)\n",
      " |-- name: string (nullable = true)\n",
      " |-- postal_code: string (nullable = true)\n",
      " |-- review_count: long (nullable = true)\n",
      " |-- stars: double (nullable = true)\n",
      " |-- state: string (nullable = true)\n",
      "\n"
     ]
    }
   ],
   "source": [
    "# Importar Business\n",
    "business_df = spark.read.json(\"/home/jovyan/work/yelp_academic_dataset_business.json\")\n",
    "business_df.printSchema()  # Verifica la estructura para localizar el campo de la ciudad"
   ]
  },
  {
   "cell_type": "code",
   "execution_count": 37,
   "id": "4633c7de-c4a3-4c79-85d9-5d02baeb2cbc",
   "metadata": {},
   "outputs": [],
   "source": [
    "# Realiza un join para incluir la ciudad en el DataFrame de reviews\n",
    "review_with_business_df = review_df.join(business_df, \"business_id\", \"left\").select(review_df[\"*\"], business_df[\"city\"], business_df[\"state\"])"
   ]
  },
  {
   "cell_type": "code",
   "execution_count": 38,
   "id": "a3155a2a-72b5-495f-a681-db4414a9b987",
   "metadata": {},
   "outputs": [],
   "source": [
    "# Agregar columnas de año y mes\n",
    "review_with_business_df = review_with_business_df.withColumn(\"year\", year(\"date\")).withColumn(\"month\", month(\"date\"))"
   ]
  },
  {
   "cell_type": "code",
   "execution_count": 39,
   "id": "602cd3f0-fc1b-4d20-ac6f-502bd30d389b",
   "metadata": {},
   "outputs": [],
   "source": [
    "# Particionar por Fecha (Año y Mes)\n",
    "review_with_business_df.write.partitionBy(\"year\", \"month\").mode(\"overwrite\").parquet(\"/home/jovyan/work/review_partitioned_by_date\")"
   ]
  },
  {
   "cell_type": "code",
   "execution_count": 40,
   "id": "4d485c96-6df5-444e-8b73-2b7ff6fbed28",
   "metadata": {},
   "outputs": [],
   "source": [
    "# Particionar por Estado\n",
    "review_with_business_df.write.partitionBy(\"state\").mode(\"overwrite\").parquet(\"/home/jovyan/work/review_partitioned_by_state\")"
   ]
  },
  {
   "cell_type": "code",
   "execution_count": null,
   "id": "563df6e6-5c59-47e1-82d0-6de126d1ed57",
   "metadata": {},
   "outputs": [],
   "source": [
    "# Particionar por Estado y Fecha\n",
    "review_with_business_df.write.partitionBy(\"state\", \"year\", \"month\").mode(\"overwrite\").parquet(\"/home/jovyan/work/review_partitioned_by_state_date\")"
   ]
  },
  {
   "cell_type": "code",
   "execution_count": null,
   "id": "c9232b4e-5c90-4b42-a1f7-e5c300ce6d33",
   "metadata": {},
   "outputs": [],
   "source": [
    "# Verificar\n",
    "!ls -lh /home/jovyan/work/review_partitioned_by_date\n",
    "!ls -lh /home/jovyan/work/review_partitioned_by_state\n",
    "!ls -lh /home/jovyan/work/review_partitioned_by_state_date"
   ]
  },
  {
   "cell_type": "markdown",
   "id": "39974361-18c3-433b-a16a-90bff6d198b4",
   "metadata": {},
   "source": [
    "6. Ejecuta un query utilizando sobre la tabla filtrando por una de las ciudades y un años en particular. Registra el tiempo de ejecución.\n",
    "\n",
    "Aplica el query sobre:\n",
    "\n",
    "- la versión en JSON\n",
    "- la versión particionada por fecha\n",
    "- la versión particionada por fecha y estado"
   ]
  },
  {
   "cell_type": "code",
   "execution_count": null,
   "id": "b03a6568-6cf9-43ab-83f9-9f0ee43101d1",
   "metadata": {},
   "outputs": [],
   "source": []
  },
  {
   "cell_type": "markdown",
   "id": "224bb1c7-afdd-4445-a530-1f19eabab174",
   "metadata": {},
   "source": [
    "7. De todos los queries que ejecutaste cuáles fueron más rápidos."
   ]
  },
  {
   "cell_type": "code",
   "execution_count": null,
   "id": "c60cd40c-c271-45a1-8be3-732310b2753c",
   "metadata": {},
   "outputs": [],
   "source": []
  }
 ],
 "metadata": {
  "kernelspec": {
   "display_name": "Python 3 (ipykernel)",
   "language": "python",
   "name": "python3"
  },
  "language_info": {
   "codemirror_mode": {
    "name": "ipython",
    "version": 3
   },
   "file_extension": ".py",
   "mimetype": "text/x-python",
   "name": "python",
   "nbconvert_exporter": "python",
   "pygments_lexer": "ipython3",
   "version": "3.11.6"
  }
 },
 "nbformat": 4,
 "nbformat_minor": 5
}
